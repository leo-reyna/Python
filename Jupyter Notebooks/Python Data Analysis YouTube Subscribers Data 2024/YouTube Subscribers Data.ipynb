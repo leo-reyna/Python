{
 "cells": [
  {
   "cell_type": "markdown",
   "metadata": {},
   "source": [
    "### Youtube Subscribers Data 2024\n",
    "\n",
    "Kaggle [Data Set](https://www.kaggle.com/datasets/rashminslnk/youtube-subscribers-data-2024?resource=download)\n",
    "\n",
    "In this dataset, we will extract, clean, and analyze subscriber statistics from YouTube channels using \n",
    "Python's pandas library. Our primary goal is to create a thorough dataset that highlights the latest trends in \n",
    "YouTube subscriber counts. This will enable us to perform detailed analysis and gain insights into the platform's \n",
    "most popular content creators.\n",
    "\n",
    "Work in Progress - 12/27/2024"
   ]
  },
  {
   "cell_type": "markdown",
   "metadata": {},
   "source": [
    "##### Loading file and File Structure"
   ]
  },
  {
   "cell_type": "code",
   "execution_count": 3,
   "metadata": {},
   "outputs": [
    {
     "name": "stdout",
     "output_type": "stream",
     "text": [
      "<class 'pandas.core.frame.DataFrame'>\n",
      "RangeIndex: 50 entries, 0 to 49\n",
      "Data columns (total 6 columns):\n",
      " #   Column                  Non-Null Count  Dtype  \n",
      "---  ------                  --------------  -----  \n",
      " 0   Name                    50 non-null     object \n",
      " 1   Brand channel           50 non-null     object \n",
      " 2   Subscribers (millions)  50 non-null     float64\n",
      " 3   Primary language        50 non-null     object \n",
      " 4   Category                50 non-null     object \n",
      " 5   Country                 50 non-null     object \n",
      "dtypes: float64(1), object(5)\n",
      "memory usage: 2.5+ KB\n"
     ]
    },
    {
     "data": {
      "text/plain": [
       "(                         Name Brand channel  Subscribers (millions)  \\\n",
       " 0                     MrBeast            No                   335.0   \n",
       " 1                    T-Series           Yes                   280.0   \n",
       " 2  Cocomelon - Nursery Rhymes           Yes                   186.0   \n",
       " 3                   SET India           Yes                   180.0   \n",
       " 4               Vlad and Niki            No                   129.0   \n",
       " \n",
       "   Primary language       Category        Country  \n",
       " 0          English  Entertainment  United States  \n",
       " 1            Hindi          Music          India  \n",
       " 2          English      Education  United States  \n",
       " 3            Hindi  Entertainment          India  \n",
       " 4          English  Entertainment         Russia  ,\n",
       "            Name Brand channel  Subscribers (millions) Primary language  \\\n",
       " count        50            50               50.000000               50   \n",
       " unique       50             2                     NaN               11   \n",
       " top     MrBeast           Yes                     NaN          English   \n",
       " freq          1            29                     NaN               21   \n",
       " mean        NaN           NaN               90.962000              NaN   \n",
       " std         NaN           NaN               53.066727              NaN   \n",
       " min         NaN           NaN               57.500000              NaN   \n",
       " 25%         NaN           NaN               62.900000              NaN   \n",
       " 50%         NaN           NaN               71.200000              NaN   \n",
       " 75%         NaN           NaN               96.950000              NaN   \n",
       " max         NaN           NaN              335.000000              NaN   \n",
       " \n",
       "              Category Country  \n",
       " count              50      50  \n",
       " unique             11      16  \n",
       " top     Entertainment   India  \n",
       " freq               20      17  \n",
       " mean              NaN     NaN  \n",
       " std               NaN     NaN  \n",
       " min               NaN     NaN  \n",
       " 25%               NaN     NaN  \n",
       " 50%               NaN     NaN  \n",
       " 75%               NaN     NaN  \n",
       " max               NaN     NaN  )"
      ]
     },
     "execution_count": 3,
     "metadata": {},
     "output_type": "execute_result"
    }
   ],
   "source": [
    "import pandas as pd\n",
    "import matplotlib.pyplot as plt\n",
    "\n",
    "# read the csv file\n",
    "df = pd.read_csv('D:\\Github Repos\\python\\Jupyter Notebooks\\Python Data Analysis YouTube Subscribers Data 2024\\youtube_subscribers_data.csv')\n",
    "\n",
    "# Statistic summary\n",
    "head = df.head()\n",
    "info = df.info()\n",
    "summary = df.describe(include='all')\n",
    "head, summary # printing the head and summary"
   ]
  },
  {
   "cell_type": "markdown",
   "metadata": {},
   "source": [
    "##### Dataset Summary\n",
    "\n",
    "There are 50 rows and 6 columns in this dataset\n",
    "\n",
    "**Key Columns**\n",
    "\n",
    "* Subscribers (millions): Numeric vakues (range: 57.5M - 335M)\n",
    "* Brand Channel: Catgorical Yes or No values\n",
    "* Primary Language: 11 unique languages (eg. English, Hindi)\n",
    "* Category: 11 unique catogories \n",
    "* Country: 16 unique countries\n"
   ]
  },
  {
   "cell_type": "markdown",
   "metadata": {},
   "source": [
    "##### Descriptive Analysis:\n",
    "\n",
    "* Distribution of subscribers by category, language, and country.\n",
    "* Average and top subscriber counts by category.\n",
    "* Comparison between brand and non-brand channels."
   ]
  },
  {
   "cell_type": "code",
   "execution_count": 11,
   "metadata": {},
   "outputs": [
    {
     "name": "stdout",
     "output_type": "stream",
     "text": [
      "\n",
      "Category Distribution:\n",
      "                    Category  Count\n",
      "0             Entertainment     20\n",
      "1                     Music     17\n",
      "2                 Education      4\n",
      "3                      Film      2\n",
      "4                    Sports      1\n",
      "5                    How-to      1\n",
      "6      Entertainment/Sports      1\n",
      "7                      News      1\n",
      "8           Lifestyle Vlogs      1\n",
      "9                    Comedy      1\n",
      "10  Education/Entertainment      1\n",
      "\n",
      "Language Distribution:\n",
      "                Language  Count\n",
      "0               English     21\n",
      "1                 Hindi     15\n",
      "2                Korean      4\n",
      "3               Spanish      2\n",
      "4                  Urdu      2\n",
      "5   Portuguese, English      1\n",
      "6               Russian      1\n",
      "7                Arabic      1\n",
      "8            Portuguese      1\n",
      "9              Bhojpuri      1\n",
      "10            Malayalam      1\n",
      "\n",
      "Country Distribution:\n",
      "                    Country  Count\n",
      "0                    India     17\n",
      "1            United States     13\n",
      "2              South Korea      5\n",
      "3   United States  Ukraine      2\n",
      "4                 Pakistan      2\n",
      "5                   Russia      1\n",
      "6            Sweden  Japan      1\n",
      "7                Cyprus[a]      1\n",
      "8                   Canada      1\n",
      "9                 Portugal      1\n",
      "10                 Belarus      1\n",
      "11    United Arab Emirates      1\n",
      "12                  Brazil      1\n",
      "13               Argentina      1\n",
      "14                  Mexico      1\n",
      "15                 Romania      1\n"
     ]
    }
   ],
   "source": [
    "# Finding the distribution of the subscribers by category, language and country\n",
    "subscribers_by_category = df['Category'].value_counts()\n",
    "subscribers_by_language = df['Primary language'].value_counts()\n",
    "subscribers_by_country = df['Country'].value_counts()\n",
    "\n",
    "category_df = subscribers_by_category.reset_index()\n",
    "category_df.columns = ['Category', 'Count']\n",
    "\n",
    "language_df = subscribers_by_language.reset_index()\n",
    "language_df.columns = ['Language', 'Count']\n",
    "\n",
    "country_df = subscribers_by_country.reset_index()\n",
    "country_df.columns = ['Country', 'Count']\n",
    "\n",
    "print(\"\\nCategory Distribution:\\n\", category_df)\n",
    "print(\"\\nLanguage Distribution:\\n\", language_df)\n",
    "print(\"\\nCountry Distribution:\\n\", country_df)"
   ]
  },
  {
   "cell_type": "markdown",
   "metadata": {},
   "source": [
    "##### Top 5 Channels by Subscriber Count"
   ]
  },
  {
   "cell_type": "code",
   "execution_count": 27,
   "metadata": {},
   "outputs": [
    {
     "data": {
      "image/png": "[encoded data removed]",
      "text/plain": [
       "<Figure size 800x500 with 1 Axes>"
      ]
     },
     "metadata": {},
     "output_type": "display_data"
    }
   ],
   "source": [
    "import matplotlib.pyplot as plt\n",
    "\n",
    "top_5_subscribers = df.nlargest(5, 'Subscribers (millions)') # get the top 5 rows with the highest subscriber count\n",
    "\n",
    "plt.figure(figsize=(8, 5)) # set the size of the plot\n",
    "plt.bar(top_5_subscribers['Name'], top_5_subscribers['Subscribers (millions)'], color='#0096c7') # create a bar plot\n",
    "plt.xlabel('Channels') #this is to set the x-axis label\n",
    "plt.ylabel('Subscriber Count', fontsize=9) # this is  to y-axis label\n",
    "plt.gca().yaxis.set_visible(False) # hide the y-axis since i am displaying the values on top of the bars\n",
    "plt.title('Top 5 YouTube Channels by Subscriber (Millions)', fontsize = 16) # set the title of the plot   \n",
    "plt.xticks(fontsize=9) # adjusting the fonts of the x-axis labels use rotation=45 to rotate the labels\n",
    "plt.bar_label(plt.bar(top_5_subscribers['Name'], top_5_subscribers['Subscribers (millions)'], color='#0096c7'), fmt='%0.f') # display the values on the bars\n",
    "plt.tight_layout() # adjusting the plot to fit the labels properly\n",
    "plt.show() # now to display the plot   \n"
   ]
  }
 ],
 "metadata": {
  "kernelspec": {
   "display_name": "Python 3",
   "language": "python",
   "name": "python3"
  },
  "language_info": {
   "codemirror_mode": {
    "name": "ipython",
    "version": 3
   },
   "file_extension": ".py",
   "mimetype": "text/x-python",
   "name": "python",
   "nbconvert_exporter": "python",
   "pygments_lexer": "ipython3",
   "version": "3.9.10"
  }
 },
 "nbformat": 4,
 "nbformat_minor": 2
}
