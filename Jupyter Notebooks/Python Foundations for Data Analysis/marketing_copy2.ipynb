{
 "cells": [
  {
   "cell_type": "markdown",
   "id": "5e60c15c",
   "metadata": {},
   "source": [
    "### New Marketing Copy \n",
    "\n",
    "Ok, time to draft some more copy - the CEO wasn't pleased that we didn't mention a ski shop in our last version.\n",
    "\n",
    "Below are five text messages we need to draw from."
   ]
  },
  {
   "cell_type": "code",
   "execution_count": 1,
   "id": "af7c47ce",
   "metadata": {},
   "outputs": [],
   "source": [
    "text1 = '          Your friend Mark'\n",
    "text2 = 'was'\n",
    "text3 = 'having'\n",
    "text4 = 'a great day'\n",
    "text5 = 'on the mountain'"
   ]
  },
  {
   "cell_type": "markdown",
   "id": "51eacfa4",
   "metadata": {},
   "source": [
    "### Combine the Texts\n",
    "\n",
    "Combine the messages into a single string, assigned to `full_text`."
   ]
  },
  {
   "cell_type": "code",
   "execution_count": 4,
   "id": "3fc90fbb",
   "metadata": {},
   "outputs": [
    {
     "data": {
      "text/plain": [
       "'          Your friend Markwashavinga great day on the mountain'"
      ]
     },
     "execution_count": 4,
     "metadata": {},
     "output_type": "execute_result"
    }
   ],
   "source": [
    "full_text = text1 + text2 + text3 + text4 + ' ' + text5\n",
    "\n",
    "full_text"
   ]
  },
  {
   "cell_type": "markdown",
   "id": "90143a4f",
   "metadata": {},
   "source": [
    "### Clean it up\n",
    "\n",
    "Remove the leading spaces and let's make it all lower case for now. "
   ]
  },
  {
   "cell_type": "code",
   "execution_count": 7,
   "id": "26519221",
   "metadata": {},
   "outputs": [
    {
     "data": {
      "text/plain": [
       "'Your friend Markwashavinga great dayon the mountain'"
      ]
     },
     "execution_count": 7,
     "metadata": {},
     "output_type": "execute_result"
    }
   ],
   "source": [
    "fixed_text = full_text.strip()\n",
    "\n",
    "fixed_text"
   ]
  },
  {
   "cell_type": "markdown",
   "id": "e6a2ff1a",
   "metadata": {},
   "source": [
    "### A *SLIGHT* Change\n",
    "\n",
    "Change the portion of the message that reads 'on the mountain' to 'at the ski shop'."
   ]
  },
  {
   "cell_type": "code",
   "execution_count": 5,
   "id": "a5ea4032",
   "metadata": {},
   "outputs": [
    {
     "data": {
      "text/plain": [
       "'your friend mark was having a great day at the ski shop'"
      ]
     },
     "execution_count": 5,
     "metadata": {},
     "output_type": "execute_result"
    }
   ],
   "source": [
    "new_text = \n",
    "\n",
    "new_text"
   ]
  },
  {
   "cell_type": "markdown",
   "id": "daaac727",
   "metadata": {},
   "source": [
    "### Count the words\n",
    "\n",
    "Look up a string method [here](https://docs.python.org/3/library/stdtypes.html#string-methods) that can help us count the number of words in our messages. We just need to count how many spaces there are and add 1. "
   ]
  },
  {
   "cell_type": "code",
   "execution_count": 8,
   "id": "2ce7d4e5",
   "metadata": {},
   "outputs": [
    {
     "data": {
      "text/plain": [
       "12"
      ]
     },
     "execution_count": 8,
     "metadata": {},
     "output_type": "execute_result"
    }
   ],
   "source": [
    "word_count = \n",
    "\n",
    "word_count"
   ]
  }
 ],
 "metadata": {
  "kernelspec": {
   "display_name": "Python 3",
   "language": "python",
   "name": "python3"
  },
  "language_info": {
   "codemirror_mode": {
    "name": "ipython",
    "version": 3
   },
   "file_extension": ".py",
   "mimetype": "text/x-python",
   "name": "python",
   "nbconvert_exporter": "python",
   "pygments_lexer": "ipython3",
   "version": "3.9.10"
  }
 },
 "nbformat": 4,
 "nbformat_minor": 5
}
