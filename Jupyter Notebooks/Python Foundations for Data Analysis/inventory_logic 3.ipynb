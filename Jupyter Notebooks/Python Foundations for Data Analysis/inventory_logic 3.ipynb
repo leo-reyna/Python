{
 "cells": [
  {
   "cell_type": "markdown",
   "id": "f306059e",
   "metadata": {},
   "source": [
    "### Inventory Logic\n",
    "\n",
    "I need you to create some logic that returns Boolean values depending on Inventory levels and other factors.\n",
    "\n",
    "Our current inventory level is 5 units."
   ]
  },
  {
   "cell_type": "code",
   "execution_count": 1,
   "id": "092f66b8",
   "metadata": {},
   "outputs": [],
   "source": [
    "inventory_count = 3"
   ]
  },
  {
   "cell_type": "markdown",
   "id": "e6093e31",
   "metadata": {},
   "source": [
    "### Do we have any stock?\n",
    "\n",
    "Write logic that returns True if we have 0 units of inventory."
   ]
  },
  {
   "cell_type": "code",
   "execution_count": 14,
   "id": "8da9b9a8",
   "metadata": {},
   "outputs": [
    {
     "name": "stdout",
     "output_type": "stream",
     "text": [
      "Out of Stock\n"
     ]
    }
   ],
   "source": [
    "if inventory_count <= 0:\n",
    "    print('Out of Stock')\n",
    "elif"
   ]
  },
  {
   "cell_type": "markdown",
   "id": "5ad239a7",
   "metadata": {},
   "source": [
    "### Do we have a safe level of inventory?\n",
    "\n",
    "Write logic that returns True if we have more than five units of inventory."
   ]
  },
  {
   "cell_type": "code",
   "execution_count": 5,
   "id": "f8f7ff90",
   "metadata": {},
   "outputs": [
    {
     "name": "stdout",
     "output_type": "stream",
     "text": [
      "Low stock\n"
     ]
    }
   ],
   "source": [
    "inventory_count = 5\n",
    "if inventory_count == 0:\n",
    "    print('Out of Stock')\n",
    "elif inventory_count <= 5:\n",
    "    print('Low stock')\n",
    "elif inventory_count > 5:\n",
    "    print('In stock')"
   ]
  },
  {
   "cell_type": "markdown",
   "id": "49bbb57f",
   "metadata": {},
   "source": [
    "### Display price if we have more than five units of inventory\n",
    "\n",
    "Now, write logic that displays the price of our product if we have more than five units of inventory, and 0.0 if not.\n",
    "\n",
    "Our current price is 99.99."
   ]
  },
  {
   "cell_type": "code",
   "execution_count": null,
   "id": "7d1fe791",
   "metadata": {},
   "outputs": [],
   "source": [
    "inventory_count = 5\n",
    "price = 99.99"
   ]
  },
  {
   "cell_type": "markdown",
   "id": "a658be31",
   "metadata": {},
   "source": [
    "### Discount Sale Item Flag\n",
    "\n",
    "Now write logic that returns True if inventory is greater than 0 and the product price is less than 100 dollars."
   ]
  },
  {
   "cell_type": "code",
   "execution_count": null,
   "id": "3da81983",
   "metadata": {},
   "outputs": [],
   "source": []
  },
  {
   "cell_type": "markdown",
   "id": "0e16597b",
   "metadata": {},
   "source": [
    "### Special Customer Flag\n",
    "\n",
    "Finally, we need to create logic that returns True if inventory is greater than 0, or the customer's name is Chris AND the product is named 'super_snowboard'."
   ]
  },
  {
   "cell_type": "code",
   "execution_count": null,
   "id": "50fa1724",
   "metadata": {},
   "outputs": [],
   "source": [
    "customer_name = 'Chris'\n",
    "inventory_count = 0\n",
    "product = 'super_snowboard'\n",
    "\n"
   ]
  },
  {
   "cell_type": "code",
   "execution_count": null,
   "id": "8334c450",
   "metadata": {},
   "outputs": [],
   "source": []
  }
 ],
 "metadata": {
  "kernelspec": {
   "display_name": "Python 3",
   "language": "python",
   "name": "python3"
  },
  "language_info": {
   "codemirror_mode": {
    "name": "ipython",
    "version": 3
   },
   "file_extension": ".py",
   "mimetype": "text/x-python",
   "name": "python",
   "nbconvert_exporter": "python",
   "pygments_lexer": "ipython3",
   "version": "3.9.10"
  }
 },
 "nbformat": 4,
 "nbformat_minor": 5
}
