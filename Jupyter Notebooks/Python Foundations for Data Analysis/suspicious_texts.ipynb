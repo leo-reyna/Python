{
 "cells": [
  {
   "cell_type": "markdown",
   "id": "64ecc688",
   "metadata": {},
   "source": [
    "### Password Retrieval\n",
    "\n",
    "* Spell the word 'Maven' by grabbing one letter from each text message"
   ]
  },
  {
   "cell_type": "code",
   "execution_count": 13,
   "id": "b5f889bd",
   "metadata": {},
   "outputs": [],
   "source": [
    "text1 = '          Your friend Mark'\n",
    "text2 = 'was'\n",
    "text3 = 'having'\n",
    "text4 = 'a great day'\n",
    "text5 = 'on the mountain'"
   ]
  },
  {
   "cell_type": "code",
   "execution_count": 14,
   "id": "4854f6a6",
   "metadata": {},
   "outputs": [
    {
     "name": "stdout",
     "output_type": "stream",
     "text": [
      "The secret password is Maven\n"
     ]
    }
   ],
   "source": [
    "# Your code goes here - combine the letters in to a word and assign to the variable 'maven'\n",
    "maven = text1[-4] + text2[1] + text3[2] + text4[4] + text5[-1]\n",
    "\n",
    "print('The secret password is ' + maven)"
   ]
  },
  {
   "cell_type": "code",
   "execution_count": 15,
   "id": "e9ed8563",
   "metadata": {},
   "outputs": [
    {
     "data": {
      "text/plain": [
       "'thginot swons ti epoh I'"
      ]
     },
     "execution_count": 15,
     "metadata": {},
     "output_type": "execute_result"
    }
   ],
   "source": [
    "# string slicing\n",
    "\n",
    "message = 'I hope it snows tonight'\n",
    "# message[6:]\n",
    "# message[0:6]\n",
    "# message[2:6]\n",
    "# message[0:6:2]\n",
    "message[::-1]"
   ]
  },
  {
   "cell_type": "code",
   "execution_count": 20,
   "id": "f25786e7",
   "metadata": {},
   "outputs": [
    {
     "data": {
      "text/plain": [
       "'tonight'"
      ]
     },
     "execution_count": 20,
     "metadata": {},
     "output_type": "execute_result"
    }
   ],
   "source": [
    "message2 = 'I hope it snows tonight'\n",
    "message2[0:6]\n",
    "message2[6:]\n",
    "message[::2]\n",
    "message[-7:]"
   ]
  },
  {
   "cell_type": "code",
   "execution_count": null,
   "id": "2af3c534",
   "metadata": {},
   "outputs": [],
   "source": []
  }
 ],
 "metadata": {
  "kernelspec": {
   "display_name": "Python 3",
   "language": "python",
   "name": "python3"
  },
  "language_info": {
   "codemirror_mode": {
    "name": "ipython",
    "version": 3
   },
   "file_extension": ".py",
   "mimetype": "text/x-python",
   "name": "python",
   "nbconvert_exporter": "python",
   "pygments_lexer": "ipython3",
   "version": "3.9.10"
  }
 },
 "nbformat": 4,
 "nbformat_minor": 5
}
